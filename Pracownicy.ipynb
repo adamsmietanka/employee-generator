{
 "cells": [
  {
   "cell_type": "markdown",
   "metadata": {},
   "source": [
    "# Dane testowe"
   ]
  },
  {
   "cell_type": "markdown",
   "metadata": {},
   "source": [
    "Zacznę od paru importów:"
   ]
  },
  {
   "cell_type": "code",
   "execution_count": 1,
   "metadata": {},
   "outputs": [],
   "source": [
    "import pandas as pd\n",
    "import numpy as np\n",
    "from datetime import datetime, timedelta\n",
    "import re"
   ]
  },
  {
   "cell_type": "markdown",
   "metadata": {},
   "source": [
    "W internecie znalazłem najczęściej występujące nazwiska:"
   ]
  },
  {
   "cell_type": "code",
   "execution_count": 2,
   "metadata": {},
   "outputs": [],
   "source": [
    "nazwiska = '''Nowak 92867\n",
    "Kowalski 63635\n",
    "Wiśniewski 50346\n",
    "Wójcik 46052\n",
    "Kowalczyk 45503\n",
    "Kamiński 43473\n",
    "Lewandowski 42170\n",
    "Zieliński 41504\n",
    "Woźniak 41101\n",
    "Szymański 40648\n",
    "Dąbrowski 39352\n",
    "Kozłowski 34520\n",
    "Jankowski 31405\n",
    "Mazur 31271\n",
    "Wojciechowski 30188\n",
    "Kwiatkowski 30120\n",
    "Krawczyk 29109\n",
    "Kaczmarek 28620\n",
    "Piotrowski 28035\n",
    "Grabowski 26659\n",
    "Zając 25955\n",
    "Król 25395\n",
    "Pawłowski 25315\n",
    "Michalski 24790\n",
    "Wróbel 23527\n",
    "Jabłoński 22983\n",
    "Wieczorek 22724\n",
    "Nowakowski 22399\n",
    "Majewski 22344\n",
    "Olszewski 22078\n",
    "Stępień 22040\n",
    "Jaworski 21502\n",
    "Dudek 21452\n",
    "Adamczyk 21400\n",
    "Malinowski 21398\n",
    "Pawlak 20912\n",
    "Górski 20727\n",
    "Sikora 20533\n",
    "Nowicki 20465\n",
    "Witkowski 20202\n",
    "Walczak 20193\n",
    "Baran 19973\n",
    "Rutkowski 19943\n",
    "Michalak 19539\n",
    "Szewczyk 19359\n",
    "Ostrowski 19047\n",
    "Tomaszewski 18346\n",
    "Zalewski 18121\n",
    "Wróblewski 17801\n",
    "Pietrzak 17784\n",
    "Jasiński\n",
    "Zawadzki\n",
    "Bąk\n",
    "Jakubowski\n",
    "Sadowski\n",
    "Duda\n",
    "Włodarczyk\n",
    "Wilk\n",
    "Chmielewski\n",
    "Borkowski\n",
    "Sokołowski\n",
    "Szczepański\n",
    "Sawicki\n",
    "Kucharski\n",
    "Lis\n",
    "Maciejewski\n",
    "Kubiak\n",
    "Kalinowski\n",
    "Mazurek\n",
    "Wysocki\n",
    "Kołodziej\n",
    "Kaźmierczak\n",
    "Czarnecki\n",
    "Sobczak\n",
    "Konieczny\n",
    "Urbański\n",
    "Głowacki\n",
    "Wasilewski\n",
    "Sikorski\n",
    "Zakrzewski\n",
    "Krajewski\n",
    "Krupa\n",
    "Laskowski\n",
    "Ziółkowski\n",
    "Gajewski\n",
    "Mróz\n",
    "Brzeziński\n",
    "Szulc\n",
    "Szymczak\n",
    "Makowski\n",
    "Baranowski\n",
    "Przybylski\n",
    "Kaczmarczyk\n",
    "Borowski\n",
    "Błaszyk\n",
    "Adamski\n",
    "Górecki\n",
    "Chojnacki\n",
    "Kania'''"
   ]
  },
  {
   "cell_type": "markdown",
   "metadata": {},
   "source": [
    "Wyciągam listę nazwisk z powyższego tekstu:"
   ]
  },
  {
   "cell_type": "code",
   "execution_count": 3,
   "metadata": {},
   "outputs": [],
   "source": [
    "nazwiska = [i.capitalize() for i in re.findall(r'(?i)([A-ZĄĘŁŃÓŚŹ]+)', nazwiska)]"
   ]
  },
  {
   "cell_type": "markdown",
   "metadata": {},
   "source": [
    "Dorzucam najpopularniejsze imiona:"
   ]
  },
  {
   "cell_type": "code",
   "execution_count": 4,
   "metadata": {},
   "outputs": [],
   "source": [
    "imiona = '''Jan\n",
    "Stanisław\n",
    "Andrzej\n",
    "Józef\n",
    "Tadeusz\n",
    "Jerzy\n",
    "Zbigniew\n",
    "Krzysztof\n",
    "Henryk\n",
    "Ryszard\n",
    "Kazimierz\n",
    "Marek\n",
    "Marian\n",
    "Piotr\n",
    "Janusz\n",
    "Władysław\n",
    "Adam\n",
    "Wiesław\n",
    "Zdzisław\n",
    "Edward\n",
    "Mieczysław\n",
    "Roman\n",
    "Mirosław\n",
    "Grzegorz\n",
    "Czesław\n",
    "Dariusz\n",
    "Wojciech\n",
    "Jacek\n",
    "Eugeniusz\n",
    "Tomasz'''\n",
    "imiona = imiona.split()"
   ]
  },
  {
   "cell_type": "markdown",
   "metadata": {},
   "source": [
    "Z olxa wyciągam stanowiska:"
   ]
  },
  {
   "cell_type": "code",
   "execution_count": 5,
   "metadata": {},
   "outputs": [],
   "source": [
    "stanowiska = '''Murarz\n",
    "Tynkarz\n",
    "Cieśla\n",
    "Operator\n",
    "Hydraulik\n",
    "Elektryk\n",
    "Spawacz\n",
    "Technik\n",
    "Glazurnik\n",
    "Montażysta\n",
    "Tynkarz'''\n",
    "stanowiska = stanowiska.split()"
   ]
  },
  {
   "cell_type": "markdown",
   "metadata": {},
   "source": [
    "I przykładowe zakresy płac dla poszczególnych stanowisk:"
   ]
  },
  {
   "cell_type": "code",
   "execution_count": 6,
   "metadata": {},
   "outputs": [],
   "source": [
    "stawki = {'Murarz': (30, 35),\n",
    " 'Elektryk': (22, 35),\n",
    " 'Cieśla': (25, 30),\n",
    " 'Technik': (30, 50),\n",
    " 'Spawacz': (30, 60),\n",
    " 'Tynkarz': (18, 25),\n",
    " 'Operator': (25, 40),\n",
    " 'Glazurnik': (18, 25),\n",
    " 'Hydraulik': (25, 35),\n",
    " 'Montażysta': (15, 25)}"
   ]
  },
  {
   "cell_type": "markdown",
   "metadata": {},
   "source": [
    "Brakuje jeszcze listy z budowami:"
   ]
  },
  {
   "cell_type": "code",
   "execution_count": 7,
   "metadata": {},
   "outputs": [],
   "source": [
    "budowy = '''Metro C1\n",
    "Metro C2\n",
    "Metro B20\n",
    "Metro B21\n",
    "Dworzec Wschodni\n",
    "Dworzec Gdański\n",
    "Obwodnica Południowa A\n",
    "Obwodnica Południowa B\n",
    "Obwodnica Południowa C\n",
    "Varso\n",
    "PKiN\n",
    "Marynarska'''\n",
    "\n",
    "budowy = budowy.split('\\n')"
   ]
  },
  {
   "cell_type": "markdown",
   "metadata": {},
   "source": [
    "I tworzę z nich losowych pracowników:"
   ]
  },
  {
   "cell_type": "code",
   "execution_count": 8,
   "metadata": {
    "scrolled": true
   },
   "outputs": [
    {
     "data": {
      "text/html": [
       "<div>\n",
       "<style scoped>\n",
       "    .dataframe tbody tr th:only-of-type {\n",
       "        vertical-align: middle;\n",
       "    }\n",
       "\n",
       "    .dataframe tbody tr th {\n",
       "        vertical-align: top;\n",
       "    }\n",
       "\n",
       "    .dataframe thead th {\n",
       "        text-align: right;\n",
       "    }\n",
       "</style>\n",
       "<table border=\"1\" class=\"dataframe\">\n",
       "  <thead>\n",
       "    <tr style=\"text-align: right;\">\n",
       "      <th></th>\n",
       "      <th>Pracownik</th>\n",
       "      <th>Stanowisko</th>\n",
       "      <th>Budowa</th>\n",
       "      <th>Stawka</th>\n",
       "    </tr>\n",
       "  </thead>\n",
       "  <tbody>\n",
       "    <tr>\n",
       "      <td>0</td>\n",
       "      <td>Duda Tadeusz</td>\n",
       "      <td>Cieśla</td>\n",
       "      <td>Dworzec Gdański</td>\n",
       "      <td>28.0</td>\n",
       "    </tr>\n",
       "    <tr>\n",
       "      <td>1</td>\n",
       "      <td>Kołodziej Jan</td>\n",
       "      <td>Operator</td>\n",
       "      <td>Obwodnica Południowa C</td>\n",
       "      <td>36.0</td>\n",
       "    </tr>\n",
       "    <tr>\n",
       "      <td>2</td>\n",
       "      <td>Król Piotr</td>\n",
       "      <td>Cieśla</td>\n",
       "      <td>PKiN</td>\n",
       "      <td>29.0</td>\n",
       "    </tr>\n",
       "    <tr>\n",
       "      <td>3</td>\n",
       "      <td>Wysocki Zdzisław</td>\n",
       "      <td>Cieśla</td>\n",
       "      <td>Metro B20</td>\n",
       "      <td>30.0</td>\n",
       "    </tr>\n",
       "    <tr>\n",
       "      <td>4</td>\n",
       "      <td>Kozłowski Krzysztof</td>\n",
       "      <td>Technik</td>\n",
       "      <td>Varso</td>\n",
       "      <td>50.0</td>\n",
       "    </tr>\n",
       "    <tr>\n",
       "      <td>5</td>\n",
       "      <td>Grabowski Ryszard</td>\n",
       "      <td>Tynkarz</td>\n",
       "      <td>Metro B20</td>\n",
       "      <td>19.0</td>\n",
       "    </tr>\n",
       "    <tr>\n",
       "      <td>6</td>\n",
       "      <td>Zakrzewski Tomasz</td>\n",
       "      <td>Spawacz</td>\n",
       "      <td>Obwodnica Południowa C</td>\n",
       "      <td>33.0</td>\n",
       "    </tr>\n",
       "    <tr>\n",
       "      <td>7</td>\n",
       "      <td>Sokołowski Piotr</td>\n",
       "      <td>Operator</td>\n",
       "      <td>Dworzec Gdański</td>\n",
       "      <td>32.0</td>\n",
       "    </tr>\n",
       "    <tr>\n",
       "      <td>8</td>\n",
       "      <td>Kania Zbigniew</td>\n",
       "      <td>Elektryk</td>\n",
       "      <td>Metro B20</td>\n",
       "      <td>26.0</td>\n",
       "    </tr>\n",
       "    <tr>\n",
       "      <td>9</td>\n",
       "      <td>Jaworski Grzegorz</td>\n",
       "      <td>Technik</td>\n",
       "      <td>Obwodnica Południowa C</td>\n",
       "      <td>37.0</td>\n",
       "    </tr>\n",
       "  </tbody>\n",
       "</table>\n",
       "</div>"
      ],
      "text/plain": [
       "             Pracownik Stanowisko                  Budowa  Stawka\n",
       "0         Duda Tadeusz     Cieśla         Dworzec Gdański    28.0\n",
       "1        Kołodziej Jan   Operator  Obwodnica Południowa C    36.0\n",
       "2           Król Piotr     Cieśla                    PKiN    29.0\n",
       "3     Wysocki Zdzisław     Cieśla               Metro B20    30.0\n",
       "4  Kozłowski Krzysztof    Technik                   Varso    50.0\n",
       "5    Grabowski Ryszard    Tynkarz               Metro B20    19.0\n",
       "6    Zakrzewski Tomasz    Spawacz  Obwodnica Południowa C    33.0\n",
       "7     Sokołowski Piotr   Operator         Dworzec Gdański    32.0\n",
       "8       Kania Zbigniew   Elektryk               Metro B20    26.0\n",
       "9    Jaworski Grzegorz    Technik  Obwodnica Południowa C    37.0"
      ]
     },
     "execution_count": 8,
     "metadata": {},
     "output_type": "execute_result"
    }
   ],
   "source": [
    "ilosc_pracownikow = 200\n",
    "\n",
    "df = pd.DataFrame(0, index=range(ilosc_pracownikow), columns=['Imię', 'Nazwisko'])\n",
    "\n",
    "df[\"Imię\"] = np.random.choice(imiona, size=len(df))\n",
    "df[\"Nazwisko\"] = np.random.choice(nazwiska, size=len(df))\n",
    "\n",
    "df['Pracownik'] = df[\"Nazwisko\"] + ' ' + df[\"Imię\"]\n",
    "df = df.drop(['Imię', 'Nazwisko'], axis=1)\n",
    "\n",
    "df[\"Stanowisko\"] = np.random.choice(stanowiska, size=len(df))\n",
    "df[\"Budowa\"] = np.random.choice(budowy, size=len(df))\n",
    "\n",
    "for i, row in df.iterrows():\n",
    "    zakres = stawki[row['Stanowisko']]\n",
    "    df.at[i,'Stawka']= np.random.randint(zakres[0], zakres[1] + 1, size=1)\n",
    "\n",
    "df.head(10)"
   ]
  },
  {
   "cell_type": "code",
   "execution_count": 9,
   "metadata": {},
   "outputs": [],
   "source": [
    "df.to_csv('reports_employee.csv', header=False, encoding='utf-8')"
   ]
  },
  {
   "cell_type": "markdown",
   "metadata": {},
   "source": [
    "Tworzę listę rekordów na *n* dni:"
   ]
  },
  {
   "cell_type": "code",
   "execution_count": 10,
   "metadata": {},
   "outputs": [],
   "source": [
    "n = 62\n",
    "\n",
    "dane = df.copy()\n",
    "dane['Data'] = datetime.now().date()\n",
    "\n",
    "for i in range(1, n):\n",
    "    dzien = datetime.now().date() - timedelta(i)\n",
    "    if dzien.weekday() not in {5, 6}:\n",
    "        df['Data'] = dzien\n",
    "        dane = pd.concat([dane,df], ignore_index=True)\n",
    "godziny = np.random.randint(7, 10, size=len(dane))\n",
    "dane['Dniówka'] = godziny * dane['Stawka']\n",
    "dane = dane.drop(['Stawka'], axis=1)\n",
    "dane.index += 1"
   ]
  },
  {
   "cell_type": "markdown",
   "metadata": {},
   "source": [
    "Zapisuję dane do csv:"
   ]
  },
  {
   "cell_type": "code",
   "execution_count": 11,
   "metadata": {
    "pycharm": {
     "name": "#%%\n"
    }
   },
   "outputs": [],
   "source": [
    "dane.to_csv('reports_record.csv', header=False, encoding='utf-8')"
   ]
  }
 ],
 "metadata": {
  "kernelspec": {
   "display_name": "Python 3",
   "language": "python",
   "name": "python3"
  },
  "language_info": {
   "codemirror_mode": {
    "name": "ipython",
    "version": 3
   },
   "file_extension": ".py",
   "mimetype": "text/x-python",
   "name": "python",
   "nbconvert_exporter": "python",
   "pygments_lexer": "ipython3",
   "version": "3.7.4"
  },
  "pycharm": {
   "stem_cell": {
    "cell_type": "raw",
    "source": [],
    "metadata": {
     "collapsed": false
    }
   }
  }
 },
 "nbformat": 4,
 "nbformat_minor": 2
}